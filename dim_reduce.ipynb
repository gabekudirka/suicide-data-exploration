{
 "cells": [
  {
   "cell_type": "code",
   "execution_count": 1,
   "source": [
    "import pandas as pd\r\n",
    "import numpy as np\r\n",
    "import umap\r\n",
    "from sklearn.manifold import TSNE\r\n",
    "from sklearn.decomposition import PCA\r\n",
    "from sklearn.preprocessing import StandardScaler\r\n",
    "\r\n",
    "from bokeh.plotting import figure, output_file, show\r\n",
    "from bokeh.models import CategoricalColorMapper, ColumnDataSource\r\n",
    "from bokeh.palettes import Category10\r\n",
    "from bokeh.layouts import row"
   ],
   "outputs": [],
   "metadata": {}
  },
  {
   "cell_type": "code",
   "execution_count": 40,
   "source": [
    "data = pd.read_csv('./data/Test_Data_1102_non_control.csv')\r\n",
    "y = data['Race'].values\r\n",
    "X = data.values"
   ],
   "outputs": [],
   "metadata": {}
  },
  {
   "cell_type": "code",
   "execution_count": 41,
   "source": [
    "std_data = StandardScaler().fit_transform(X)\r\n",
    "targets = []\r\n",
    "for i in y:\r\n",
    "    if i == 1:\r\n",
    "        targets.append('American Indian or Alaska Native')\r\n",
    "    elif i == 2:\r\n",
    "        targets.append('Asian')\r\n",
    "    elif i == 3:\r\n",
    "        targets.append('Native Hawaiian or Other Pacific Islander')\r\n",
    "    elif i == 4:\r\n",
    "        targets.append('Black or African American')\r\n",
    "    elif i == 5:\r\n",
    "        targets.append('White')\r\n",
    "    elif i == 6:\r\n",
    "        targets.append('Multiple Races')\r\n",
    "    elif i == 7:\r\n",
    "        targets.append('Unknown')\r\n",
    "    else:\r\n",
    "        targets.append('Other')\r\n",
    "\r\n",
    "\r\n",
    "# '5. White' '2. Asian' '6. Multiple Races' '7. Unknown'\r\n",
    "#  '4. Black or African American' '1. American Indian or Alaska Native'\r\n",
    "#  '3. Native Hawaiian or Other Pacific Islander'"
   ],
   "outputs": [],
   "metadata": {}
  },
  {
   "cell_type": "code",
   "execution_count": 53,
   "source": [
    "umap_embedding = umap.UMAP(random_state=42, n_neighbors=50, min_dist=0.3, n_components=2).fit_transform(std_data)"
   ],
   "outputs": [],
   "metadata": {}
  },
  {
   "cell_type": "code",
   "execution_count": null,
   "source": [
    "tsne_embedding = TSNE(perplexity=30).fit_transform(std_data)"
   ],
   "outputs": [],
   "metadata": {}
  },
  {
   "cell_type": "code",
   "execution_count": 43,
   "source": [
    "pca_embedding = PCA(n_components=2).fit_transform(std_data)"
   ],
   "outputs": [],
   "metadata": {}
  },
  {
   "cell_type": "code",
   "execution_count": 44,
   "source": [
    "print(type(targets))"
   ],
   "outputs": [
    {
     "output_type": "stream",
     "name": "stdout",
     "text": [
      "<class 'list'>\n"
     ]
    }
   ],
   "metadata": {}
  },
  {
   "cell_type": "code",
   "execution_count": 55,
   "source": [
    "output_file(\"dim_reduce_vis.html\")\r\n",
    "\r\n",
    "umap_source = ColumnDataSource(\r\n",
    "    dict(\r\n",
    "        x=umap_embedding[:,0],\r\n",
    "        y=umap_embedding[:,1],\r\n",
    "        label=targets,\r\n",
    "    )\r\n",
    ")\r\n",
    "\r\n",
    "cmap = CategoricalColorMapper(factors=np.unique(targets), palette=['red', 'green', 'blue', 'orange', 'purple', 'brown', 'blue', 'gray'])\r\n",
    "\r\n",
    "p1 = figure(title=\"UMAP - True Case Subpopulation\")\r\n",
    "p1.circle(\r\n",
    "    x=\"x\",\r\n",
    "    y=\"y\",\r\n",
    "    source=umap_source,\r\n",
    "    color={\"field\": \"label\", \"transform\": cmap},\r\n",
    "    legend_field =\"label\"\r\n",
    ")\r\n",
    "\r\n",
    "# tsne_source = ColumnDataSource(\r\n",
    "#     dict(\r\n",
    "#         x=tsne_embedding[:,0],\r\n",
    "#         y=tsne_embedding[:,1],\r\n",
    "#         label=y,\r\n",
    "#     )\r\n",
    "# )\r\n",
    "\r\n",
    "# p2 = figure(title=\"TSNE\")\r\n",
    "# p2.circle(\r\n",
    "#     x=\"x\",\r\n",
    "#     y=\"y\",\r\n",
    "#     source=tsne_source,\r\n",
    "#     color={\"field\": \"label\", \"transform\": cmap},\r\n",
    "#     legend_field =\"label\",\r\n",
    "# )\r\n",
    "\r\n",
    "pca_source = ColumnDataSource(\r\n",
    "    dict(\r\n",
    "        x=pca_embedding[:,0],\r\n",
    "        y=pca_embedding[:,1],\r\n",
    "        label=targets,\r\n",
    "    )\r\n",
    ")\r\n",
    "\r\n",
    "p3 = figure(title=\"PCA - True Case Subpopulation\")\r\n",
    "p3.circle(\r\n",
    "    x=\"x\",\r\n",
    "    y=\"y\",\r\n",
    "    source=pca_source,\r\n",
    "    color={\"field\": \"label\", \"transform\": cmap},\r\n",
    "    legend_field =\"label\"\r\n",
    ")\r\n",
    "\r\n",
    "show(row(p1, p3))"
   ],
   "outputs": [],
   "metadata": {}
  }
 ],
 "metadata": {
  "orig_nbformat": 4,
  "language_info": {
   "name": "python",
   "version": "3.9.6",
   "mimetype": "text/x-python",
   "codemirror_mode": {
    "name": "ipython",
    "version": 3
   },
   "pygments_lexer": "ipython3",
   "nbconvert_exporter": "python",
   "file_extension": ".py"
  },
  "kernelspec": {
   "name": "python3",
   "display_name": "Python 3.9.6 64-bit"
  },
  "interpreter": {
   "hash": "63fd5069d213b44bf678585dea6b12cceca9941eaf7f819626cde1f2670de90d"
  }
 },
 "nbformat": 4,
 "nbformat_minor": 2
}