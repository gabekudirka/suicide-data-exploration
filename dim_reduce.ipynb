{
 "cells": [
  {
   "cell_type": "code",
   "execution_count": 16,
   "source": [
    "import pandas as pd\r\n",
    "import numpy as np\r\n",
    "import umap\r\n",
    "from sklearn.manifold import TSNE\r\n",
    "from sklearn.decomposition import PCA\r\n",
    "\r\n",
    "from bokeh.plotting import figure, output_file, show\r\n",
    "from bokeh.models import CategoricalColorMapper, ColumnDataSource\r\n",
    "from bokeh.palettes import Category10\r\n",
    "from bokeh.layouts import row"
   ],
   "outputs": [],
   "metadata": {}
  },
  {
   "cell_type": "code",
   "execution_count": 11,
   "source": [
    "data = pd.read_csv('./data/Test_Data_1102_enumerated_filledin.csv')\r\n",
    "y = data.columns\r\n",
    "X = data.values"
   ],
   "outputs": [
    {
     "output_type": "execute_result",
     "data": {
      "text/plain": [
       "array([[2.500000e+01, 0.000000e+00, 1.221372e+06, ..., 0.000000e+00,\n",
       "        0.000000e+00, 0.000000e+00],\n",
       "       [2.100000e+02, 0.000000e+00, 1.229858e+06, ..., 0.000000e+00,\n",
       "        0.000000e+00, 0.000000e+00],\n",
       "       [5.000000e+02, 0.000000e+00, 1.235588e+06, ..., 0.000000e+00,\n",
       "        0.000000e+00, 0.000000e+00],\n",
       "       ...,\n",
       "       [5.905350e+06, 0.000000e+00, 5.902531e+06, ..., 0.000000e+00,\n",
       "        0.000000e+00, 0.000000e+00],\n",
       "       [5.905351e+06, 0.000000e+00, 5.902654e+06, ..., 0.000000e+00,\n",
       "        0.000000e+00, 0.000000e+00],\n",
       "       [5.905353e+06, 0.000000e+00, 5.902863e+06, ..., 0.000000e+00,\n",
       "        0.000000e+00, 0.000000e+00]])"
      ]
     },
     "metadata": {},
     "execution_count": 11
    }
   ],
   "metadata": {}
  },
  {
   "cell_type": "code",
   "execution_count": 14,
   "source": [
    "umap_embedding = umap.UMAP(random_state=42, n_neighbors=50, min_dist=0.3, n_components=2).fit_transform(X)"
   ],
   "outputs": [],
   "metadata": {}
  },
  {
   "cell_type": "code",
   "execution_count": null,
   "source": [
    "tsne_embedding = TSNE(perplexity=50).fit_transform(X)"
   ],
   "outputs": [],
   "metadata": {}
  },
  {
   "cell_type": "code",
   "execution_count": null,
   "source": [
    "pca_embedding = PCA(n_components=5).fit_transform(X)"
   ],
   "outputs": [],
   "metadata": {}
  },
  {
   "cell_type": "code",
   "execution_count": 17,
   "source": [
    "output_file(\"mydata_umap.html\")\r\n",
    "\r\n",
    "umap_source = ColumnDataSource(\r\n",
    "    dict(\r\n",
    "        x=umap_embedding[:,0],\r\n",
    "        y=umap_embedding[:,1],\r\n",
    "        label=y,\r\n",
    "    )\r\n",
    ")\r\n",
    "\r\n",
    "cmap = CategoricalColorMapper(factors=np.unique(y), palette=Category10[10])\r\n",
    "\r\n",
    "p1 = figure(title=\"UMAP\")\r\n",
    "p1.circle(\r\n",
    "    x=\"x\",\r\n",
    "    y=\"y\",\r\n",
    "    source=umap_source,\r\n",
    "    color={\"field\": \"label\", \"transform\": cmap},\r\n",
    ")\r\n",
    "\r\n",
    "tsne_source = ColumnDataSource(\r\n",
    "    dict(\r\n",
    "        x=tsne_embedding[:,0],\r\n",
    "        y=tsne_embedding[:,1],\r\n",
    "        label=y,\r\n",
    "    )\r\n",
    ")\r\n",
    "\r\n",
    "p2 = figure(title=\"TSNE\")\r\n",
    "p2.circle(\r\n",
    "    x=\"x\",\r\n",
    "    y=\"y\",\r\n",
    "    source=tsne_source,\r\n",
    "    color={\"field\": \"label\", \"transform\": cmap},\r\n",
    ")\r\n",
    "\r\n",
    "pca_source = ColumnDataSource(\r\n",
    "    dict(\r\n",
    "        x=pca_embedding[:,0],\r\n",
    "        y=pca_embedding[:,1],\r\n",
    "        label=y,\r\n",
    "    )\r\n",
    ")\r\n",
    "\r\n",
    "p3 = figure(title=\"PCA\")\r\n",
    "p3.circle(\r\n",
    "    x=\"x\",\r\n",
    "    y=\"y\",\r\n",
    "    source=pca_source,\r\n",
    "    color={\"field\": \"label\", \"transform\": cmap},\r\n",
    ")\r\n",
    "\r\n",
    "show(row(p1,p2, p3))"
   ],
   "outputs": [
    {
     "output_type": "stream",
     "name": "stderr",
     "text": [
      "BokehUserWarning: ColumnDataSource's columns must be of the same length. Current lengths: ('label', 148), ('x', 25489), ('y', 25489)\n",
      "BokehUserWarning: ColumnDataSource's columns must be of the same length. Current lengths: ('label', 148), ('x', 25489), ('y', 25489)\n",
      "BokehUserWarning: ColumnDataSource's columns must be of the same length. Current lengths: ('label', 148), ('x', 25489), ('y', 25489)\n",
      "WARNING:bokeh.core.validation.check:W-1008 (PALETTE_LENGTH_FACTORS_MISMATCH): Palette length does not match number of factors: ['250.2' '272.1' '272.11' '276.12' '276.14' '276.41' '276.5' '278.1'\n",
      " '285.0' '291.8' '295.3' '296.0' '296.1' '296.2' '296.22' '297.1' '297.2'\n",
      " '3.0' '300.0' '300.1' '300.11' '300.12' '300.4' '300.9' '301.0' '306.0'\n",
      " '313.1' '316.0' '317.0' '317.1' '318.0' '327.3' '327.32' '327.4' '338.1'\n",
      " '338.2' '339.0' '340.0' '345.3' '351.0' '386.9' '4.0' '401.1' '411.4'\n",
      " '418.0' '426.7' '427.3' '427.7' '455.0' '457.0' '464.0' '465.0' '465.2'\n",
      " '475.0' '479.0' '480.0' '483.0' '495.0' '497.0' '5.0' '508.0' '509.1'\n",
      " '512.7' '512.8' '512.9' '530.1' '530.11' '532.0' '535.9' '550.2' '558.0'\n",
      " '561.1' '562.1' '563.0' '585.1' '591.0' '593.0' '599.3' '600.0' '665.0'\n",
      " '687.4' '7.0' '716.9' '721.1' '722.1' '722.6' '726.0' '740.1' '740.9'\n",
      " '745.0' '760.0' '761.0' '763.0' '770.0' '771.1' '773.0' '782.3' '783.0'\n",
      " '785.0' '788.0' '789.0' '790.6' '798.0' '8.0' '804.0' '809.0' '819.0'\n",
      " '830.0' '835.0' '840.0' '841.0' '870.3' '871.0' '871.2' '9.0' '915.0'\n",
      " '916.0' '939.0' '965.0' '965.1' '967.0' '969.0' '979.0' 'Age' 'CaseCtrl'\n",
      " 'EducationMax' 'EgoMaritalStatus' 'Female' 'Month_Birth' 'Month_Death'\n",
      " 'Race' 'RedCapID' 'Spanish' 'Year_Birth' 'Year_Death' 'indexredcapid'\n",
      " 'methoddeath' 'violent'] will be assigned to `nan_color` gray\n"
     ]
    }
   ],
   "metadata": {}
  }
 ],
 "metadata": {
  "orig_nbformat": 4,
  "language_info": {
   "name": "python",
   "version": "3.9.6",
   "mimetype": "text/x-python",
   "codemirror_mode": {
    "name": "ipython",
    "version": 3
   },
   "pygments_lexer": "ipython3",
   "nbconvert_exporter": "python",
   "file_extension": ".py"
  },
  "kernelspec": {
   "name": "python3",
   "display_name": "Python 3.9.6 64-bit"
  },
  "interpreter": {
   "hash": "63fd5069d213b44bf678585dea6b12cceca9941eaf7f819626cde1f2670de90d"
  }
 },
 "nbformat": 4,
 "nbformat_minor": 2
}