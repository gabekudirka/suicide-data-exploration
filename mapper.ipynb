{
 "cells": [
  {
   "cell_type": "code",
   "execution_count": 1,
   "source": [
    "from sklearn.preprocessing import StandardScaler, MinMaxScaler\r\n",
    "import numpy as np\r\n",
    "import pandas as pd\r\n",
    "from matplotlib import pyplot as plt\r\n",
    "\r\n",
    "import sklearn\r\n",
    "from sklearn.manifold import TSNE\r\n",
    "from sklearn.decomposition import PCA\r\n",
    "from sklearn.cluster import KMeans\r\n",
    "from umap import UMAP\r\n",
    "from sklearn import datasets\r\n",
    "import kmapper as km"
   ],
   "outputs": [],
   "metadata": {}
  },
  {
   "cell_type": "markdown",
   "source": [
    "## This file produces mapper visualizations for the data, the first part produces visualizations of the\r\n",
    "## true cases in the dataset and the second produces visualizations of the full dataset"
   ],
   "metadata": {}
  },
  {
   "cell_type": "code",
   "execution_count": 29,
   "source": [
    "data = pd.read_csv('./data/Test_Data_1102_non_control.csv')\r\n",
    "y = y = data['CaseCtrl']\r\n",
    "X = data.values"
   ],
   "outputs": [],
   "metadata": {}
  },
  {
   "cell_type": "code",
   "execution_count": 30,
   "source": [
    "# Initialize to use t-SNE\r\n",
    "mapper = km.KeplerMapper(verbose=0)\r\n",
    "\r\n",
    "projected_data = mapper.fit_transform(X, projection=TSNE(perplexity=40))\r\n"
   ],
   "outputs": [],
   "metadata": {}
  },
  {
   "cell_type": "code",
   "execution_count": 31,
   "source": [
    "#set the filter functions\r\n",
    "#This lens projects the data onto the age feature in the dataset\r\n",
    "lens1 = mapper.fit_transform(X, projection=[4])\r\n",
    "#This lens performs PCA on the data with one component\r\n",
    "lens2 = mapper.fit_transform(X, projection=PCA(n_components=1))\r\n",
    "#This concatenates the lenses into one filter function\r\n",
    "filter_func = np.c_[lens1, lens2]\r\n",
    "\r\n",
    "#This filters the colors in the data\r\n",
    "color_vals = mapper.fit_transform(X, projection=[8])"
   ],
   "outputs": [],
   "metadata": {}
  },
  {
   "cell_type": "code",
   "execution_count": 34,
   "source": [
    "graph = mapper.map(\r\n",
    "    projected_data,\r\n",
    "    clusterer=KMeans(n_clusters=2),\r\n",
    "    cover=km.Cover(n_cubes=10, perc_overlap=0.20),\r\n",
    ")"
   ],
   "outputs": [],
   "metadata": {}
  },
  {
   "cell_type": "code",
   "execution_count": null,
   "source": [
    "mapper.visualize(\r\n",
    "    graph,\r\n",
    "    title=\"Mapper visualization\",\r\n",
    "    path_html=\"mapper.html\",\r\n",
    "    custom_tooltips=y,\r\n",
    "    color_values=color_vals,\r\n",
    "    color_function_name=[\"Year Birth Projection\"],\r\n",
    ")"
   ],
   "outputs": [],
   "metadata": {}
  },
  {
   "cell_type": "markdown",
   "source": [
    "## Mapper visualizations of the full dataset"
   ],
   "metadata": {}
  },
  {
   "cell_type": "code",
   "execution_count": 6,
   "source": [
    "#Get data with paired down features\r\n",
    "datafull = pd.read_csv('./data/Test_Data_1102_enumerated_filledin.csv')\r\n",
    "data = datafull #.drop(columns = ['RedCapID', 'CaseCtrl', 'indexredcapid',  'Month_Birth', 'Year_Birth', 'Month_Death','Year_Death'])\r\n",
    "\r\n",
    "#standardize data\r\n",
    "scaler = StandardScaler()\r\n",
    "methdeath = datafull['methoddeath'].values\r\n",
    "ages = datafull['Age'].values\r\n",
    "X = scaler.fit_transform(data)"
   ],
   "outputs": [],
   "metadata": {}
  },
  {
   "cell_type": "code",
   "execution_count": 7,
   "source": [
    "datafull.columns"
   ],
   "outputs": [
    {
     "output_type": "execute_result",
     "data": {
      "text/plain": [
       "Index(['RedCapID', 'CaseCtrl', 'indexredcapid', 'Female', 'Age', 'Race',\n",
       "       'Spanish', 'Month_Birth', 'Year_Birth', 'Month_Death',\n",
       "       ...\n",
       "       '763.0', '790.6', '1.0', '3.0', '9.0', '8.0', '2.0', '4.0', '5.0',\n",
       "       '7.0'],\n",
       "      dtype='object', length=148)"
      ]
     },
     "metadata": {},
     "execution_count": 7
    }
   ],
   "metadata": {}
  },
  {
   "cell_type": "code",
   "execution_count": 17,
   "source": [
    "## Age as a filter function\r\n",
    "mapper = km.KeplerMapper(verbose=0)\r\n",
    "# projected_data = mapper.fit_transform(X, projection=[4])\r\n",
    "projected_data = mapper.fit_transform(X, projection=TSNE(perplexity=50))"
   ],
   "outputs": [],
   "metadata": {}
  },
  {
   "cell_type": "code",
   "execution_count": null,
   "source": [
    "# Create the graph using DBSCAN as the clustering algorithm\r\n",
    "graph = mapper.map(\r\n",
    "    projected_data,\r\n",
    "    clusterer=sklearn.cluster.DBSCAN(eps=0.1, min_samples=5),\r\n",
    "    cover=km.Cover(30, 0.2),\r\n",
    ")\r\n",
    "\r\n",
    "y = np.round(methdeath, decimals=1)\r\n",
    "y.sort()\r\n",
    "\r\n",
    "mapper.visualize(\r\n",
    "    graph,\r\n",
    "    title=\"Mapper visualization\",\r\n",
    "    path_html=\"mapperTSNEDBSCAN.html\",\r\n",
    "    custom_tooltips=y,\r\n",
    ")"
   ],
   "outputs": [],
   "metadata": {}
  }
 ],
 "metadata": {
  "interpreter": {
   "hash": "9f4db02e578f1a4c978c62a34374b63c554756521902bb297fb5dc628100b158"
  },
  "kernelspec": {
   "display_name": "Python 3.8.11 64-bit",
   "name": "python3"
  },
  "language_info": {
   "codemirror_mode": {
    "name": "ipython",
    "version": 3
   },
   "file_extension": ".py",
   "mimetype": "text/x-python",
   "name": "python",
   "nbconvert_exporter": "python",
   "pygments_lexer": "ipython3",
   "version": "3.9.6"
  },
  "orig_nbformat": 4
 },
 "nbformat": 4,
 "nbformat_minor": 2
}