{
 "cells": [
  {
   "cell_type": "code",
   "execution_count": 1,
   "source": [
    "from sklearn.preprocessing import StandardScaler, MinMaxScaler\r\n",
    "import numpy as np\r\n",
    "import pandas as pd\r\n",
    "from matplotlib import pyplot as plt\r\n",
    "\r\n",
    "import sklearn\r\n",
    "from sklearn.manifold import TSNE\r\n",
    "from sklearn.decomposition import PCA\r\n",
    "from umap import UMAP\r\n",
    "from sklearn import datasets\r\n",
    "import kmapper as km"
   ],
   "outputs": [],
   "metadata": {}
  },
  {
   "cell_type": "code",
   "execution_count": null,
   "source": [
    "data = pd.read_csv('./data/Test_Data_1102_enumerated_filledin.csv')\r\n",
    "y = y = data['CaseCtrl']\r\n",
    "X = data.values"
   ],
   "outputs": [],
   "metadata": {}
  },
  {
   "cell_type": "code",
   "execution_count": null,
   "source": [
    "# Initialize to use t-SNE\r\n",
    "mapper = km.KeplerMapper(verbose=0)\r\n",
    "\r\n",
    "projected_data = mapper.fit_transform(X, projection=TSNE(perplexity=50))"
   ],
   "outputs": [],
   "metadata": {}
  },
  {
   "cell_type": "code",
   "execution_count": null,
   "source": [
    "# Create the graph using DBSCAN as the clustering algorithm\r\n",
    "graph = mapper.map(\r\n",
    "    projected_data,\r\n",
    "    clusterer=sklearn.cluster.DBSCAN(eps=0.2, min_samples=20),\r\n",
    "    cover=km.Cover(n_cubes=20, perc_overlap=0.30),\r\n",
    ")"
   ],
   "outputs": [],
   "metadata": {}
  },
  {
   "cell_type": "code",
   "execution_count": null,
   "source": [
    "mapper.visualize(\r\n",
    "    graph,\r\n",
    "    title=\"Mapper visualization\",\r\n",
    "    path_html=\"mapper.html\",\r\n",
    "    custom_tooltips=y,\r\n",
    ")"
   ],
   "outputs": [],
   "metadata": {}
  }
 ],
 "metadata": {
  "orig_nbformat": 4,
  "language_info": {
   "name": "python",
   "version": "3.9.6",
   "mimetype": "text/x-python",
   "codemirror_mode": {
    "name": "ipython",
    "version": 3
   },
   "pygments_lexer": "ipython3",
   "nbconvert_exporter": "python",
   "file_extension": ".py"
  },
  "kernelspec": {
   "name": "python3",
   "display_name": "Python 3.9.6 64-bit"
  },
  "interpreter": {
   "hash": "63fd5069d213b44bf678585dea6b12cceca9941eaf7f819626cde1f2670de90d"
  }
 },
 "nbformat": 4,
 "nbformat_minor": 2
}