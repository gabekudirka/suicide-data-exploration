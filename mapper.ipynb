{
 "cells": [
  {
   "cell_type": "code",
   "execution_count": 1,
   "metadata": {},
   "outputs": [],
   "source": [
    "from sklearn.preprocessing import StandardScaler, MinMaxScaler\n",
    "import numpy as np\n",
    "import pandas as pd\n",
    "from matplotlib import pyplot as plt\n",
    "\n",
    "import sklearn\n",
    "from sklearn.manifold import TSNE\n",
    "from sklearn.decomposition import PCA\n",
    "from sklearn.cluster import KMeans\n",
    "from umap import UMAP\n",
    "from sklearn import datasets\n",
    "import kmapper as km"
   ]
  },
  {
   "cell_type": "code",
   "execution_count": null,
   "metadata": {},
   "outputs": [],
   "source": [
    "data = pd.read_csv('./data/Test_Data_1102_enumerated_filledin.csv')\n",
    "y = y = data['CaseCtrl']\n",
    "X = data.values"
   ]
  },
  {
   "cell_type": "code",
   "execution_count": null,
   "metadata": {},
   "outputs": [],
   "source": [
    "# Initialize to use t-SNE\n",
    "mapper = km.KeplerMapper(verbose=0)\n",
    "\n",
    "projected_data = mapper.fit_transform(X, projection=TSNE(perplexity=50))"
   ]
  },
  {
   "cell_type": "code",
   "execution_count": null,
   "metadata": {},
   "outputs": [],
   "source": [
    "# Create the graph using DBSCAN as the clustering algorithm\n",
    "graph = mapper.map(\n",
    "    projected_data,\n",
    "    clusterer=sklearn.cluster.DBSCAN(eps=0.2, min_samples=20),\n",
    "    cover=km.Cover(n_cubes=20, perc_overlap=0.30),\n",
    ")"
   ]
  },
  {
   "cell_type": "code",
   "execution_count": null,
   "metadata": {},
   "outputs": [],
   "source": [
    "mapper.visualize(\n",
    "    graph,\n",
    "    title=\"Mapper visualization\",\n",
    "    path_html=\"mapper.html\",\n",
    "    custom_tooltips=y,\n",
    ")"
   ]
  },
  {
   "cell_type": "markdown",
   "metadata": {},
   "source": [
    "## All Data\n",
    "### Trying it with PCA and Kmeans"
   ]
  },
  {
   "cell_type": "code",
   "execution_count": 2,
   "metadata": {},
   "outputs": [],
   "source": [
    "#Get data with paired down features\n",
    "datafull = pd.read_csv('./data/Test_Data_1102_enumerated_filledin.csv')\n",
    "data = datafull.drop(columns = ['RedCapID', 'CaseCtrl', 'indexredcapid',  'Month_Birth', 'Year_Birth', 'Month_Death','Year_Death', 'methoddeath'])\n",
    "\n",
    "#standardize data\n",
    "scaler = StandardScaler()\n",
    "y = scaler.fit_transform(data)\n",
    "X = data.values"
   ]
  },
  {
   "cell_type": "code",
   "execution_count": 3,
   "metadata": {},
   "outputs": [],
   "source": [
    "## Try it with PCA and kmeans- All data\n",
    "\n",
    "# Initialize to use PCA\n",
    "mapper = km.KeplerMapper(verbose=0)\n",
    "projected_data = mapper.fit_transform(X, projection=PCA(n_components=90))\n",
    "\n",
    "# Create the graph using DBSCAN as the clustering algorithm\n",
    "graph = mapper.map(\n",
    "    projected_data,\n",
    "    clusterer=KMeans(n_clusters=6, init='k-means++', random_state=42),\n",
    "    cover=km.Cover(n_cubes=20, perc_overlap=0.30),\n",
    ")\n",
    "\n",
    "mapper.visualize(\n",
    "    graph,\n",
    "    title=\"Mapper visualization\",\n",
    "    path_html=\"mapperPCAKmeans.html\",\n",
    "    custom_tooltips=y,\n",
    ")"
   ]
  }
 ],
 "metadata": {
  "interpreter": {
   "hash": "63fd5069d213b44bf678585dea6b12cceca9941eaf7f819626cde1f2670de90d"
  },
  "kernelspec": {
   "display_name": "Python 3.9.6 64-bit",
   "name": "python3"
  },
  "language_info": {
   "codemirror_mode": {
    "name": "ipython",
    "version": 3
   },
   "file_extension": ".py",
   "mimetype": "text/x-python",
   "name": "python",
   "nbconvert_exporter": "python",
   "pygments_lexer": "ipython3",
   "version": "3.7.6"
  },
  "orig_nbformat": 4
 },
 "nbformat": 4,
 "nbformat_minor": 2
}
