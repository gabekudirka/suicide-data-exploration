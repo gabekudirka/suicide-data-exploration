{
 "cells": [
  {
   "cell_type": "code",
   "execution_count": 24,
   "source": [
    "import pandas as pd\r\n",
    "import numpy as np\r\n",
    "from sklearn.preprocessing import LabelEncoder"
   ],
   "outputs": [],
   "metadata": {}
  },
  {
   "cell_type": "code",
   "execution_count": 25,
   "source": [
    "df = pd.read_csv('data/Test Data 1102.csv')"
   ],
   "outputs": [
    {
     "name": "stderr",
     "output_type": "stream",
     "text": [
      "C:\\Users\\Sarah\\anaconda3\\lib\\site-packages\\IPython\\core\\interactiveshell.py:3063: DtypeWarning: Columns (4) have mixed types.Specify dtype option on import or set low_memory=False.\n",
      "  interactivity=interactivity, compiler=compiler, result=result)\n"
     ]
    }
   ],
   "source": [
    "df = pd.read_csv('data/Test Data 1102.csv')\n"
   ]
  },
  {
   "cell_type": "code",
   "execution_count": 26,
   "source": [
    "def getUniquePheCodes(df):\n",
    "    \"\"\"\n",
    "    Returns a list of unique phenotype codes from the dataframe\n",
    "    \"\"\"\n",
    "    arr = [df[col] for col in df.columns[15:]]\n",
    "    ser = pd.concat(arr)\n",
    "\n",
    "    return ser.unique()"
   ]
  },
  {
   "cell_type": "code",
   "execution_count": 27,
   "source": [
    "#get all the unique phenotype codes in the dataset\r\n",
    "unique_codes = getUniquePheCodes(df)\r\n",
    "unique_codes = unique_codes[~np.isnan(unique_codes)]    \r\n",
    "\r\n",
    "print(sorted(unique_codes))"
   ],
   "outputs": [
    {
     "output_type": "stream",
     "name": "stdout",
     "text": [
      "[1.0, 2.0, 3.0, 4.0, 5.0, 7.0, 8.0, 9.0, 208.0, 216.0, 244.4, 250.2, 272.1, 272.11, 276.12, 276.14, 276.41, 276.5, 278.1, 285.0, 291.8, 295.3, 296.0, 296.1, 296.2, 296.22, 297.1, 297.2, 300.0, 300.1, 300.11, 300.12, 300.4, 300.9, 301.0, 306.0, 313.1, 316.0, 317.0, 317.1, 318.0, 327.3, 327.32, 327.4, 338.1, 338.2, 339.0, 340.0, 345.3, 351.0, 386.9, 401.1, 411.4, 418.0, 426.7, 427.3, 427.7, 455.0, 457.0, 464.0, 465.0, 465.2, 475.0, 479.0, 480.0, 483.0, 495.0, 497.0, 508.0, 509.1, 512.7, 512.8, 512.9, 530.1, 530.11, 532.0, 535.9, 550.2, 558.0, 561.1, 562.1, 563.0, 585.1, 591.0, 593.0, 599.3, 600.0, 665.0, 687.4, 716.9, 721.1, 722.1, 722.6, 726.0, 740.1, 740.9, 745.0, 760.0, 761.0, 763.0, 770.0, 771.1, 773.0, 782.3, 783.0, 785.0, 788.0, 789.0, 790.6, 798.0, 804.0, 809.0, 819.0, 830.0, 835.0, 840.0, 841.0, 870.3, 871.0, 871.2, 915.0, 916.0, 939.0, 965.0, 965.1, 967.0, 969.0, 979.0, 1005.0, 1009.0, 1010.0, 1013.0, 1015.0]\n"
     ]
    }
   ],
   "metadata": {}
  },
  {
   "cell_type": "code",
   "execution_count": 28,
   "source": [
    "# Create np array with phecode columns\r\n",
    "phecodes_df = df[df.columns[15:]]\r\n",
    "phecodes_cols_arr = np.zeros([df.shape[0], len(unique_codes)])\r\n",
    "for i, row in phecodes_df.iterrows():\r\n",
    "    row_codes = row[~np.isnan(row)].to_numpy()\r\n",
    "    for j, code in enumerate(unique_codes):\r\n",
    "        if code in row_codes:\r\n",
    "            phecodes_cols_arr[i, j] = 1\r\n",
    "    "
   ]
  },
  {
   "cell_type": "code",
   "execution_count": 33,
   "source": [
    "# 1 - infectious diseases - [0-136]\r\n",
    "# 2 - neoplasms - [145-230]\r\n",
    "# 3 - endocrine/metabolic - [240-279.8]\r\n",
    "# 4 - hematopoietic - [280-289.9]\r\n",
    "# 5 - mental disorders - [290-318]\r\n",
    "# 6 - neurological - [320-359.2]\r\n",
    "# 7 - sense organs - [360-389.5]\r\n",
    "# 8 - circulatory system - [394-459.9]\r\n",
    "# 9 - respiratory - [464 - 519.9]\r\n",
    "# 10 - digestive - [520-579.8]\r\n",
    "# 11 - genitourinary - [580-628]\r\n",
    "# 12 - pregnancy complications - [634-679]\r\n",
    "# 13 - dermatologic - [681-709.7]\r\n",
    "# 14 - musculoskeletal - [710-745]\r\n",
    "# 15 - congenital anomalies - [747-759.1]\r\n",
    "# 16 - symptoms - [760-799]\r\n",
    "# 17 - injuries & poisonings - [800-996]\r\n",
    "# 18 - Null - >1000\r\n",
    "categories = ['infectious diseases', 'neoplasms', 'endocrine/metabolic', 'hematopoietic', 'mental disorders', 'neurological', 'sense organs', 'circulatory system', 'respiratory', 'digestive', 'genitourinary', 'pregnancy complications', 'dermatologic', 'musculoskeletal', 'congenital anomalies', 'symptoms', 'injuries & poisonings', 'Null']\r\n",
    "def categorizePhecode(phecode):\r\n",
    "    \"\"\"\r\n",
    "    Returns a string of the phenotype code category\r\n",
    "    \"\"\"\r\n",
    "    if phecode <= 136:\r\n",
    "        return 0\r\n",
    "    elif phecode >= 145 and phecode <= 230:\r\n",
    "        return 1\r\n",
    "    elif phecode >= 240 and phecode <= 279.8:\r\n",
    "        return 2\r\n",
    "    elif phecode >= 280 and phecode <= 289.9:\r\n",
    "        return 3\r\n",
    "    elif phecode >= 290 and phecode <= 318:\r\n",
    "        return 4\r\n",
    "    elif phecode >= 320 and phecode <= 359.2:\r\n",
    "        return 5\r\n",
    "    elif phecode >= 360 and phecode <= 389.5:\r\n",
    "        return 6\r\n",
    "    elif phecode >= 394 and phecode <= 459.9:\r\n",
    "        return 7\r\n",
    "    elif phecode >= 464 and phecode <= 519.9:\r\n",
    "        return 8\r\n",
    "    elif phecode >= 520 and phecode <= 579.8:\r\n",
    "        return 9\r\n",
    "    elif phecode >= 580 and phecode <= 628:\r\n",
    "        return 10\r\n",
    "    elif phecode >= 634 and phecode <= 679:\r\n",
    "        return 11\r\n",
    "    elif phecode >= 681 and phecode <= 709.7:\r\n",
    "        return 12\r\n",
    "    elif phecode >= 710 and phecode <= 745:\r\n",
    "        return 13\r\n",
    "    elif phecode >= 747 and phecode <= 759.1:\r\n",
    "        return 14\r\n",
    "    elif phecode >= 760 and phecode <= 799:\r\n",
    "        return 15\r\n",
    "    elif phecode >= 800 and phecode <= 996:\r\n",
    "        return 16\r\n",
    "    elif phecode >= 1000:\r\n",
    "        return 17"
   ],
   "outputs": [],
   "metadata": {}
  },
  {
   "cell_type": "code",
   "execution_count": 35,
   "source": [
    "#Create np array with categories columns\r\n",
    "categories_df = df[df.columns[15:]]\r\n",
    "categories_cols_arr = np.zeros([df.shape[0], 18])\r\n",
    "for i, row in categories_df.iterrows():\r\n",
    "    row_codes = row[~np.isnan(row)].to_numpy()\r\n",
    "    for code in row_codes:\r\n",
    "        cat = categorizePhecode(code)\r\n",
    "        categories_cols_arr[i, cat] = 1"
   ],
   "outputs": [],
   "metadata": {}
  },
  {
   "cell_type": "code",
   "execution_count": 36,
   "source": [
    "# Reconstruct dataframe with new columns for phecodes\r\n",
    "df_phecodes = df.drop(df.columns[15:], axis=1)\r\n",
    "for i, code in enumerate(unique_codes):\r\n",
    "    df_phecodes[code] = phecodes_cols_arr[:, i]\r\n",
    "\r\n",
    "df_phecodes.to_csv('data/Test Data 1102_phecodes.csv', index=False)"
   ],
   "source": [
    "## enumerate race\n",
    "dfc = df_no_phecodes.copy()\n",
    "uniq = dfc[\"Race\"].unique()\n",
    "print(uniq)\n",
    "for u in uniq:\n",
    "    if not isinstance(u, str):\n",
    "        print(u)\n",
    "        continue\n",
    "    dfc['Race'] = dfc['Race'].replace([u], int(u[0]))\n",
    "\n"
   ]
  },
  {
   "cell_type": "code",
   "execution_count": 57,
   "metadata": {},
   "outputs": [],
   "source": [
    "## Gender [M,F] -> Female [0,1]\n",
    "dfc['Gender'] = dfc['Gender'].replace(['F'], 1)\n",
    "dfc['Gender'] = dfc['Gender'].replace(['M'], 0)\n",
    "dfc = dfc.rename(columns={'Gender': 'Female'})"
   ]
  },
  {
   "cell_type": "code",
   "execution_count": 58,
   "metadata": {},
   "outputs": [],
   "source": [
    "# Spanish [N,Y,U] -> Spanish[0,1,-1]\n",
    "dfc['Spanish'] = dfc['Spanish'].replace(['N'], 0)\n",
    "dfc['Spanish'] = dfc['Spanish'].replace(['Y'], 1)\n",
    "dfc['Spanish'] = dfc['Spanish'].replace(['U'], -1)\n"
   ]
  },
  {
   "cell_type": "code",
   "execution_count": 59,
   "metadata": {},
   "outputs": [
    {
     "name": "stdout",
     "output_type": "stream",
     "text": [
      "C:\\Users\\GABRIE~1\\AppData\\Local\\Temp/ipykernel_17940/2105328579.py:4: PerformanceWarning: DataFrame is highly fragmented.  This is usually the result of calling `frame.insert` many times, which has poor performance.  Consider joining all columns at once using pd.concat(axis=1) instead.  To get a de-fragmented frame, use `newframe = frame.copy()`\n",
      "  df_phecodes[code] = phecodes_cols_arr[:, i]\n"
     ]
    }
   ],
   "metadata": {}
  },
  {
   "cell_type": "code",
   "execution_count": 39,
   "source": [
    "#reconstruct dataframe with new columns for categories\r\n",
    "df_categories = df.drop(df.columns[15:], axis=1)\r\n",
    "for i, code in enumerate(categories):\r\n",
    "    df_categories[code] = categories_cols_arr[:, i]\r\n",
    "\r\n",
    "\r\n",
    "df_categories.to_csv('data/Test Data 1102_categories.csv', index=False)"
   ],
   "outputs": [],
   "metadata": {}
  }
 ],
 "metadata": {
  "interpreter": {
   "hash": "63fd5069d213b44bf678585dea6b12cceca9941eaf7f819626cde1f2670de90d"
  },
  "kernelspec": {
   "display_name": "Python 3.9.6 64-bit",
   "name": "python3"
  },
  "language_info": {
   "codemirror_mode": {
    "name": "ipython",
    "version": 3
   },
   "file_extension": ".py",
   "mimetype": "text/x-python",
   "name": "python",
   "nbconvert_exporter": "python",
   "pygments_lexer": "ipython3",
   "version": "3.7.6"
  },
  "orig_nbformat": 4
 },
 "nbformat": 4,
 "nbformat_minor": 2
}
