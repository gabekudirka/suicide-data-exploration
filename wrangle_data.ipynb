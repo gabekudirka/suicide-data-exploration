{
 "cells": [
  {
   "cell_type": "code",
   "execution_count": 1,
   "source": [
    "import pandas as pd\r\n",
    "import numpy as np"
   ],
   "outputs": [],
   "metadata": {}
  },
  {
   "cell_type": "code",
   "execution_count": 2,
   "source": [
    "df = pd.read_csv('data/Test Data 1102.csv')\r\n"
   ],
   "outputs": [
    {
     "output_type": "stream",
     "name": "stderr",
     "text": [
      "C:\\Users\\Gabrielius Kudirka\\AppData\\Roaming\\Python\\Python39\\site-packages\\IPython\\core\\interactiveshell.py:3441: DtypeWarning: Columns (4) have mixed types.Specify dtype option on import or set low_memory=False.\n",
      "  exec(code_obj, self.user_global_ns, self.user_ns)\n"
     ]
    }
   ],
   "metadata": {}
  },
  {
   "cell_type": "code",
   "execution_count": 3,
   "source": [
    "def getUniquePheCodes(df):\r\n",
    "    \"\"\"\r\n",
    "    Returns a list of unique phenotype codes from the dataframe\r\n",
    "    \"\"\"\r\n",
    "    arr = [df[col] for col in df.columns[15:]]\r\n",
    "    ser = pd.concat(arr)\r\n",
    "\r\n",
    "    return ser.unique()"
   ],
   "outputs": [],
   "metadata": {}
  },
  {
   "cell_type": "code",
   "execution_count": 4,
   "source": [
    "unique_codes = getUniquePheCodes(df)\r\n",
    "unique_codes = unique_codes[~np.isnan(unique_codes)]"
   ],
   "outputs": [],
   "metadata": {}
  },
  {
   "cell_type": "code",
   "execution_count": 5,
   "source": [
    "phecodes_df = df[df.columns[15:]]\r\n",
    "new_cols_arr = np.zeros([df.shape[0], len(unique_codes)])\r\n",
    "for i, row in phecodes_df.iterrows():\r\n",
    "    row_codes = row[~np.isnan(row)].to_numpy()\r\n",
    "    for j, code in enumerate(unique_codes):\r\n",
    "        if code in row_codes:\r\n",
    "            new_cols_arr[i, j] = 1\r\n",
    "    "
   ],
   "outputs": [],
   "metadata": {}
  },
  {
   "cell_type": "code",
   "execution_count": 6,
   "source": [
    "print(new_cols_arr[18:21])"
   ],
   "outputs": [
    {
     "output_type": "stream",
     "name": "stdout",
     "text": [
      "[[1. 1. 0. 0. 0. 0. 0. 0. 0. 0. 0. 0. 0. 0. 0. 0. 0. 0. 0. 0. 0. 1. 0. 0.\n",
      "  0. 0. 0. 0. 0. 0. 0. 0. 0. 0. 0. 0. 0. 0. 0. 0. 0. 0. 0. 0. 0. 0. 0. 0.\n",
      "  0. 0. 0. 0. 0. 0. 0. 0. 0. 0. 0. 0. 0. 0. 0. 0. 0. 0. 0. 1. 0. 0. 0. 0.\n",
      "  0. 0. 0. 0. 0. 0. 0. 0. 0. 0. 0. 0. 0. 0. 0. 0. 0. 0. 0. 0. 0. 0. 0. 0.\n",
      "  0. 0. 0. 0. 0. 0. 0. 0. 0. 0. 0. 0. 0. 0. 0. 0. 0. 0. 0. 0. 0. 0. 0. 0.\n",
      "  0. 0. 0. 0. 0. 0. 0. 0. 0. 0. 0. 0. 0.]\n",
      " [0. 0. 0. 0. 0. 0. 0. 0. 0. 0. 0. 0. 0. 0. 0. 0. 0. 0. 0. 0. 0. 0. 0. 0.\n",
      "  0. 0. 0. 0. 0. 0. 0. 0. 0. 0. 0. 0. 0. 0. 0. 0. 0. 0. 0. 0. 0. 0. 0. 0.\n",
      "  0. 0. 0. 0. 0. 0. 0. 0. 0. 0. 0. 0. 0. 0. 0. 0. 0. 0. 0. 0. 0. 0. 0. 0.\n",
      "  0. 0. 0. 0. 0. 0. 0. 0. 0. 0. 0. 0. 0. 0. 0. 0. 0. 0. 0. 0. 0. 0. 0. 0.\n",
      "  0. 0. 0. 0. 0. 0. 0. 0. 0. 0. 0. 0. 0. 0. 0. 0. 0. 0. 0. 0. 0. 0. 0. 0.\n",
      "  0. 0. 0. 0. 0. 0. 0. 0. 0. 0. 0. 0. 0.]\n",
      " [0. 0. 0. 0. 0. 0. 0. 0. 0. 0. 0. 0. 0. 0. 0. 0. 0. 0. 0. 0. 0. 0. 0. 0.\n",
      "  0. 0. 0. 0. 0. 0. 0. 0. 0. 0. 0. 0. 0. 0. 0. 0. 0. 0. 0. 0. 0. 0. 0. 0.\n",
      "  0. 0. 0. 0. 0. 0. 0. 0. 0. 0. 0. 0. 0. 0. 0. 0. 0. 0. 0. 0. 0. 0. 0. 0.\n",
      "  0. 0. 0. 0. 0. 0. 0. 0. 0. 0. 0. 0. 0. 0. 0. 0. 0. 0. 0. 0. 0. 0. 0. 0.\n",
      "  0. 0. 0. 0. 0. 0. 0. 0. 0. 0. 0. 0. 0. 0. 0. 0. 0. 0. 0. 0. 0. 0. 0. 0.\n",
      "  0. 0. 0. 0. 0. 0. 0. 0. 0. 0. 0. 0. 0.]]\n"
     ]
    }
   ],
   "metadata": {}
  },
  {
   "cell_type": "code",
   "execution_count": 7,
   "source": [
    "df_no_phecodes = df.drop(df.columns[15:], axis=1)\r\n",
    "for i, code in enumerate(unique_codes):\r\n",
    "    df_no_phecodes[code] = new_cols_arr[:, i]\r\n",
    "\r\n",
    "#df_no_phecodes.to_csv('data/Test Data 1102_new.csv', index=False)"
   ],
   "outputs": [
    {
     "output_type": "stream",
     "name": "stderr",
     "text": [
      "C:\\Users\\GABRIE~1\\AppData\\Local\\Temp/ipykernel_45836/4078810151.py:3: PerformanceWarning: DataFrame is highly fragmented.  This is usually the result of calling `frame.insert` many times, which has poor performance.  Consider joining all columns at once using pd.concat(axis=1) instead.  To get a de-fragmented frame, use `newframe = frame.copy()`\n",
      "  df_no_phecodes[code] = new_cols_arr[:, i]\n"
     ]
    }
   ],
   "metadata": {}
  },
  {
   "cell_type": "markdown",
   "source": [
    "### Replace quantitative with numerical data\n",
    "\n",
    "Added keys in variable description NEW.xlsx"
   ],
   "metadata": {}
  },
  {
   "cell_type": "code",
   "execution_count": 8,
   "source": [
    "## enumerate race\r\n",
    "dfc = df_no_phecodes.copy()\r\n",
    "uniq = dfc[\"Race\"].unique()\r\n",
    "print(uniq)\r\n",
    "for u in uniq:\r\n",
    "    if not isinstance(u, str):\r\n",
    "        print(u)\r\n",
    "        continue\r\n",
    "    dfc['Race'] = dfc['Race'].replace([u], int(u[0]))\r\n",
    "\r\n"
   ],
   "outputs": [
    {
     "output_type": "stream",
     "name": "stdout",
     "text": [
      "['5. White' '2. Asian' '6. Multiple Races' '7. Unknown'\n",
      " '4. Black or African American' '1. American Indian or Alaska Native'\n",
      " '3. Native Hawaiian or Other Pacific Islander' nan]\n",
      "nan\n"
     ]
    }
   ],
   "metadata": {}
  },
  {
   "cell_type": "code",
   "execution_count": 9,
   "source": [
    "## Gender [M,F] -> Female [0,1]\r\n",
    "dfc['Gender'] = dfc['Gender'].replace(['F'], 1)\r\n",
    "dfc['Gender'] = dfc['Gender'].replace(['M'], 0)\r\n",
    "dfc = dfc.rename(columns={'Gender': 'Female'})"
   ],
   "outputs": [],
   "metadata": {}
  },
  {
   "cell_type": "code",
   "execution_count": 10,
   "source": [
    "# Spanish [N,Y,U] -> Spanish[0,1,-1]\r\n",
    "dfc['Spanish'] = dfc['Spanish'].replace(['N'], 0)\r\n",
    "dfc['Spanish'] = dfc['Spanish'].replace(['Y'], 1)\r\n",
    "dfc['Spanish'] = dfc['Spanish'].replace(['U'], -1)\r\n"
   ],
   "outputs": [],
   "metadata": {}
  },
  {
   "cell_type": "code",
   "execution_count": 11,
   "source": [
    "dfc['Age'] = dfc['Age'].replace(['<11'], 10)\r\n"
   ],
   "outputs": [],
   "metadata": {}
  },
  {
   "cell_type": "code",
   "execution_count": 12,
   "source": [
    "# marital status\r\n",
    "ms = dfc['EgoMaritalStatus'].unique()\r\n",
    "i = 0\r\n",
    "for m in ms:\r\n",
    "    if not isinstance(m, str):\r\n",
    "        print(m)\r\n",
    "        continue\r\n",
    "    dfc['EgoMaritalStatus'] = dfc['EgoMaritalStatus'].replace([m], i)\r\n",
    "    print(i, m)\r\n",
    "    i += 1"
   ],
   "outputs": [
    {
     "output_type": "stream",
     "name": "stdout",
     "text": [
      "0 Widowed\n",
      "nan\n",
      "1 Married\n",
      "2 Never Married\n",
      "3 Divorced\n",
      "4 Single\n",
      "5 Unknown or Unmarried (2018 plus)\n",
      "6 Separated\n",
      "7 Other\n",
      "8 Married but Separated\n",
      "9 Unknown\n"
     ]
    }
   ],
   "metadata": {}
  },
  {
   "cell_type": "code",
   "execution_count": 13,
   "source": [
    "#dfc.to_csv('data/Test_Data_1102_enumerated.csv', index=False)"
   ],
   "outputs": [],
   "metadata": {}
  },
  {
   "cell_type": "code",
   "execution_count": 14,
   "source": [
    "percent_missing = dfc.isnull().sum() * 100 / len(dfc)\r\n",
    "missing_value_df = pd.DataFrame({'column_name': dfc.columns,\r\n",
    "                                 'percent_missing': percent_missing})\r\n",
    "with pd.option_context('display.max_rows', None, 'display.max_columns', None):\r\n",
    "    print(missing_value_df)"
   ],
   "outputs": [
    {
     "output_type": "stream",
     "name": "stdout",
     "text": [
      "                 column_name  percent_missing\n",
      "RedCapID            RedCapID         0.000000\n",
      "CaseCtrl            CaseCtrl         0.000000\n",
      "indexredcapid  indexredcapid         0.000000\n",
      "Female                Female         0.003923\n",
      "Age                      Age        74.373259\n",
      "...                      ...              ...\n",
      "8.0                      8.0         0.000000\n",
      "2.0                      2.0         0.000000\n",
      "4.0                      4.0         0.000000\n",
      "5.0                      5.0         0.000000\n",
      "7.0                      7.0         0.000000\n",
      "\n",
      "[148 rows x 2 columns]\n"
     ]
    }
   ],
   "metadata": {}
  },
  {
   "cell_type": "code",
   "execution_count": 15,
   "source": [
    "# fill in missing values\r\n",
    "#drop rows with where 6 or more values are missing are missing\r\n",
    "dfc_replaced = dfc.dropna(axis=0, how='all', thresh=6)\r\n",
    "\r\n",
    "# fill in Female, Race, Spanish, and Month_Birth columns with most common value\r\n",
    "female_mode = dfc_replaced['Female'].mode()\r\n",
    "dfc_replaced['Female'].fillna(female_mode[0], inplace=True)\r\n",
    "\r\n",
    "race_mode = dfc_replaced['Race'].mode()\r\n",
    "dfc_replaced['Race'].fillna(race_mode[0], inplace=True)\r\n",
    "\r\n",
    "spanish_mode = dfc_replaced['Spanish'].mode()\r\n",
    "dfc_replaced['Spanish'].fillna(spanish_mode[0], inplace=True)\r\n",
    "\r\n",
    "month_birth_mode = dfc_replaced['Month_Birth'].mode()\r\n",
    "dfc_replaced['Month_Birth'].fillna(month_birth_mode[0], inplace=True)\r\n",
    "\r\n",
    "#Fill in year birth with median value\r\n",
    "year_birth_median = dfc_replaced['Year_Birth'].median()\r\n",
    "dfc_replaced['Year_Birth'].fillna(year_birth_median, inplace=True)\r\n",
    "\r\n",
    "#Fill in method death and violent with -1\r\n",
    "dfc_replaced['methoddeath'].fillna(-1, inplace=True)\r\n",
    "dfc_replaced['violent'].fillna(-1, inplace=True)\r\n",
    "\r\n",
    "#About 75% of month death, year death, age and ego martial status are missing\r\n",
    "#Creating a separate dataframe with only rows with these values and one filling these in\r\n",
    "df_contains_all_vals = dfc_replaced[(dfc['Month_Death'].notnull()) & (dfc_replaced['Year_Death'].notnull()) & (dfc_replaced['Age'].notnull()) & (dfc_replaced['EgoMaritalStatus'].notnull()) & (dfc_replaced['EducationMax'].notnull())]\r\n",
    "#Also may be worth to have a dataframe with only the non control data\r\n",
    "df_non_control = dfc_replaced[dfc_replaced['CaseCtrl'] == 1]\r\n",
    "\r\n",
    "#replace month death and ego marital status with most common value\r\n",
    "month_death_mode = dfc_replaced['Month_Death'].mode()\r\n",
    "dfc_replaced['Month_Death'].fillna(month_death_mode[0], inplace=True)\r\n",
    "\r\n",
    "marital_status_mode = dfc_replaced['EgoMaritalStatus'].mode()\r\n",
    "print(marital_status_mode)\r\n",
    "print(race_mode[0])\r\n",
    "dfc_replaced['EgoMaritalStatus'].fillna(marital_status_mode[0], inplace=True)\r\n",
    "\r\n",
    "education_mode = dfc_replaced['EducationMax'].mode()\r\n",
    "dfc_replaced['EducationMax'] = dfc_replaced['EducationMax'].fillna(education_mode[0])\r\n",
    "\r\n",
    "#replace year death with median value\r\n",
    "year_death_median = dfc_replaced['Year_Death'].median()\r\n",
    "dfc_replaced['Year_Death'].fillna(year_death_median, inplace=True)\r\n",
    "\r\n",
    "# fill in age column with average value - \r\n",
    "age_mean = pd.to_numeric(dfc_replaced['Age']).mean()\r\n",
    "dfc_replaced['Age'].fillna(age_mean, inplace=True)\r\n"
   ],
   "outputs": [
    {
     "output_type": "stream",
     "name": "stdout",
     "text": [
      "0    2.0\n",
      "dtype: float64\n",
      "5.0\n"
     ]
    }
   ],
   "metadata": {}
  },
  {
   "cell_type": "code",
   "execution_count": 16,
   "source": [
    "dfc_replaced.to_csv('data/Test_Data_1102_enumerated_filledin.csv', index=False)\r\n",
    "df_contains_all_vals.to_csv('data/Test_Data_1102_enumerated_contains_all_vals.csv', index=False)"
   ],
   "outputs": [],
   "metadata": {}
  },
  {
   "cell_type": "code",
   "execution_count": 17,
   "source": [
    "percent_missing = dfc_replaced.isnull().sum() * 100 / len(dfc_replaced)\r\n",
    "missing_value_df = pd.DataFrame({'column_name': dfc_replaced.columns,\r\n",
    "                                 'percent_missing': percent_missing})\r\n",
    "with pd.option_context('display.max_rows', None, 'display.max_columns', None):\r\n",
    "    print(missing_value_df)"
   ],
   "outputs": [
    {
     "output_type": "stream",
     "name": "stdout",
     "text": [
      "                       column_name  percent_missing\n",
      "RedCapID                  RedCapID              0.0\n",
      "CaseCtrl                  CaseCtrl              0.0\n",
      "indexredcapid        indexredcapid              0.0\n",
      "Female                      Female              0.0\n",
      "Age                            Age              0.0\n",
      "Race                          Race              0.0\n",
      "Spanish                    Spanish              0.0\n",
      "Month_Birth            Month_Birth              0.0\n",
      "Year_Birth              Year_Birth              0.0\n",
      "Month_Death            Month_Death              0.0\n",
      "Year_Death              Year_Death              0.0\n",
      "EducationMax          EducationMax              0.0\n",
      "EgoMaritalStatus  EgoMaritalStatus              0.0\n",
      "methoddeath            methoddeath              0.0\n",
      "violent                    violent              0.0\n",
      "276.5                        276.5              0.0\n",
      "401.1                        401.1              0.0\n",
      "250.2                        250.2              0.0\n",
      "208.0                        208.0              0.0\n",
      "318.0                        318.0              0.0\n",
      "296.22                      296.22              0.0\n",
      "761.0                        761.0              0.0\n",
      "530.11                      530.11              0.0\n",
      "300.1                        300.1              0.0\n",
      "475.0                        475.0              0.0\n",
      "465.0                        465.0              0.0\n",
      "465.2                        465.2              0.0\n",
      "840.0                        840.0              0.0\n",
      "841.0                        841.0              0.0\n",
      "835.0                        835.0              0.0\n",
      "495.0                        495.0              0.0\n",
      "296.2                        296.2              0.0\n",
      "483.0                        483.0              0.0\n",
      "773.0                        773.0              0.0\n",
      "1009.0                      1009.0              0.0\n",
      "464.0                        464.0              0.0\n",
      "591.0                        591.0              0.0\n",
      "316.0                        316.0              0.0\n",
      "285.0                        285.0              0.0\n",
      "276.14                      276.14              0.0\n",
      "296.1                        296.1              0.0\n",
      "726.0                        726.0              0.0\n",
      "665.0                        665.0              0.0\n",
      "244.4                        244.4              0.0\n",
      "317.1                        317.1              0.0\n",
      "785.0                        785.0              0.0\n",
      "561.1                        561.1              0.0\n",
      "760.0                        760.0              0.0\n",
      "745.0                        745.0              0.0\n",
      "783.0                        783.0              0.0\n",
      "512.9                        512.9              0.0\n",
      "558.0                        558.0              0.0\n",
      "830.0                        830.0              0.0\n",
      "300.4                        300.4              0.0\n",
      "916.0                        916.0              0.0\n",
      "789.0                        789.0              0.0\n",
      "480.0                        480.0              0.0\n",
      "798.0                        798.0              0.0\n",
      "216.0                        216.0              0.0\n",
      "339.0                        339.0              0.0\n",
      "939.0                        939.0              0.0\n",
      "512.8                        512.8              0.0\n",
      "300.0                        300.0              0.0\n",
      "915.0                        915.0              0.0\n",
      "819.0                        819.0              0.0\n",
      "722.1                        722.1              0.0\n",
      "418.0                        418.0              0.0\n",
      "1010.0                      1010.0              0.0\n",
      "535.9                        535.9              0.0\n",
      "455.0                        455.0              0.0\n",
      "272.1                        272.1              0.0\n",
      "722.6                        722.6              0.0\n",
      "296.0                        296.0              0.0\n",
      "479.0                        479.0              0.0\n",
      "340.0                        340.0              0.0\n",
      "721.1                        721.1              0.0\n",
      "300.11                      300.11              0.0\n",
      "457.0                        457.0              0.0\n",
      "272.11                      272.11              0.0\n",
      "351.0                        351.0              0.0\n",
      "804.0                        804.0              0.0\n",
      "278.1                        278.1              0.0\n",
      "740.9                        740.9              0.0\n",
      "512.7                        512.7              0.0\n",
      "276.41                      276.41              0.0\n",
      "593.0                        593.0              0.0\n",
      "295.3                        295.3              0.0\n",
      "870.3                        870.3              0.0\n",
      "291.8                        291.8              0.0\n",
      "740.1                        740.1              0.0\n",
      "386.9                        386.9              0.0\n",
      "687.4                        687.4              0.0\n",
      "771.1                        771.1              0.0\n",
      "532.0                        532.0              0.0\n",
      "338.2                        338.2              0.0\n",
      "600.0                        600.0              0.0\n",
      "426.7                        426.7              0.0\n",
      "297.2                        297.2              0.0\n",
      "345.3                        345.3              0.0\n",
      "788.0                        788.0              0.0\n",
      "871.0                        871.0              0.0\n",
      "427.3                        427.3              0.0\n",
      "563.0                        563.0              0.0\n",
      "317.0                        317.0              0.0\n",
      "300.9                        300.9              0.0\n",
      "327.3                        327.3              0.0\n",
      "313.1                        313.1              0.0\n",
      "530.1                        530.1              0.0\n",
      "871.2                        871.2              0.0\n",
      "300.12                      300.12              0.0\n",
      "301.0                        301.0              0.0\n",
      "338.1                        338.1              0.0\n",
      "782.3                        782.3              0.0\n",
      "967.0                        967.0              0.0\n",
      "327.32                      327.32              0.0\n",
      "276.12                      276.12              0.0\n",
      "497.0                        497.0              0.0\n",
      "979.0                        979.0              0.0\n",
      "306.0                        306.0              0.0\n",
      "327.4                        327.4              0.0\n",
      "809.0                        809.0              0.0\n",
      "716.9                        716.9              0.0\n",
      "508.0                        508.0              0.0\n",
      "585.1                        585.1              0.0\n",
      "550.2                        550.2              0.0\n",
      "562.1                        562.1              0.0\n",
      "599.3                        599.3              0.0\n",
      "969.0                        969.0              0.0\n",
      "1013.0                      1013.0              0.0\n",
      "1015.0                      1015.0              0.0\n",
      "1005.0                      1005.0              0.0\n",
      "770.0                        770.0              0.0\n",
      "427.7                        427.7              0.0\n",
      "297.1                        297.1              0.0\n",
      "965.0                        965.0              0.0\n",
      "965.1                        965.1              0.0\n",
      "509.1                        509.1              0.0\n",
      "411.4                        411.4              0.0\n",
      "763.0                        763.0              0.0\n",
      "790.6                        790.6              0.0\n",
      "1.0                            1.0              0.0\n",
      "3.0                            3.0              0.0\n",
      "9.0                            9.0              0.0\n",
      "8.0                            8.0              0.0\n",
      "2.0                            2.0              0.0\n",
      "4.0                            4.0              0.0\n",
      "5.0                            5.0              0.0\n",
      "7.0                            7.0              0.0\n"
     ]
    }
   ],
   "metadata": {}
  }
 ],
 "metadata": {
  "interpreter": {
   "hash": "63fd5069d213b44bf678585dea6b12cceca9941eaf7f819626cde1f2670de90d"
  },
  "kernelspec": {
   "name": "python3",
   "display_name": "Python 3.9.6 64-bit"
  },
  "language_info": {
   "codemirror_mode": {
    "name": "ipython",
    "version": 3
   },
   "file_extension": ".py",
   "mimetype": "text/x-python",
   "name": "python",
   "nbconvert_exporter": "python",
   "pygments_lexer": "ipython3",
   "version": "3.9.6"
  },
  "orig_nbformat": 4
 },
 "nbformat": 4,
 "nbformat_minor": 2
}