{
 "cells": [
  {
   "cell_type": "code",
   "execution_count": 1,
   "metadata": {},
   "outputs": [],
   "source": [
    "import pandas as pd\n",
    "import numpy as np"
   ]
  },
  {
   "cell_type": "code",
   "execution_count": 4,
   "metadata": {},
   "outputs": [
    {
     "name": "stderr",
     "output_type": "stream",
     "text": [
      "C:\\Users\\Sarah\\anaconda3\\lib\\site-packages\\IPython\\core\\interactiveshell.py:3063: DtypeWarning: Columns (4) have mixed types.Specify dtype option on import or set low_memory=False.\n",
      "  interactivity=interactivity, compiler=compiler, result=result)\n"
     ]
    }
   ],
   "source": [
    "df = pd.read_csv('data/Test Data 1102.csv')\n"
   ]
  },
  {
   "cell_type": "code",
   "execution_count": 5,
   "metadata": {},
   "outputs": [],
   "source": [
    "def getUniquePheCodes(df):\n",
    "    \"\"\"\n",
    "    Returns a list of unique phenotype codes from the dataframe\n",
    "    \"\"\"\n",
    "    arr = [df[col] for col in df.columns[15:]]\n",
    "    ser = pd.concat(arr)\n",
    "\n",
    "    return ser.unique()"
   ]
  },
  {
   "cell_type": "code",
   "execution_count": 6,
   "metadata": {},
   "outputs": [],
   "source": [
    "unique_codes = getUniquePheCodes(df)\n",
    "unique_codes = unique_codes[~np.isnan(unique_codes)]"
   ]
  },
  {
   "cell_type": "code",
   "execution_count": 7,
   "metadata": {},
   "outputs": [],
   "source": [
    "phecodes_df = df[df.columns[15:]]\n",
    "new_cols_arr = np.zeros([df.shape[0], len(unique_codes)])\n",
    "for i, row in phecodes_df.iterrows():\n",
    "    row_codes = row[~np.isnan(row)].to_numpy()\n",
    "    for j, code in enumerate(unique_codes):\n",
    "        if code in row_codes:\n",
    "            new_cols_arr[i, j] = 1\n",
    "    "
   ]
  },
  {
   "cell_type": "code",
   "execution_count": 6,
   "metadata": {},
   "outputs": [
    {
     "name": "stdout",
     "output_type": "stream",
     "text": [
      "[[1. 1. 0. 0. 0. 0. 0. 0. 0. 0. 0. 0. 0. 0. 0. 0. 0. 0. 0. 0. 0. 1. 0. 0.\n",
      "  0. 0. 0. 0. 0. 0. 0. 0. 0. 0. 0. 0. 0. 0. 0. 0. 0. 0. 0. 0. 0. 0. 0. 0.\n",
      "  0. 0. 0. 0. 0. 0. 0. 0. 0. 0. 0. 0. 0. 0. 0. 0. 0. 0. 0. 1. 0. 0. 0. 0.\n",
      "  0. 0. 0. 0. 0. 0. 0. 0. 0. 0. 0. 0. 0. 0. 0. 0. 0. 0. 0. 0. 0. 0. 0. 0.\n",
      "  0. 0. 0. 0. 0. 0. 0. 0. 0. 0. 0. 0. 0. 0. 0. 0. 0. 0. 0. 0. 0. 0. 0. 0.\n",
      "  0. 0. 0. 0. 0. 0. 0. 0. 0. 0. 0. 0. 0.]\n",
      " [0. 0. 0. 0. 0. 0. 0. 0. 0. 0. 0. 0. 0. 0. 0. 0. 0. 0. 0. 0. 0. 0. 0. 0.\n",
      "  0. 0. 0. 0. 0. 0. 0. 0. 0. 0. 0. 0. 0. 0. 0. 0. 0. 0. 0. 0. 0. 0. 0. 0.\n",
      "  0. 0. 0. 0. 0. 0. 0. 0. 0. 0. 0. 0. 0. 0. 0. 0. 0. 0. 0. 0. 0. 0. 0. 0.\n",
      "  0. 0. 0. 0. 0. 0. 0. 0. 0. 0. 0. 0. 0. 0. 0. 0. 0. 0. 0. 0. 0. 0. 0. 0.\n",
      "  0. 0. 0. 0. 0. 0. 0. 0. 0. 0. 0. 0. 0. 0. 0. 0. 0. 0. 0. 0. 0. 0. 0. 0.\n",
      "  0. 0. 0. 0. 0. 0. 0. 0. 0. 0. 0. 0. 0.]\n",
      " [0. 0. 0. 0. 0. 0. 0. 0. 0. 0. 0. 0. 0. 0. 0. 0. 0. 0. 0. 0. 0. 0. 0. 0.\n",
      "  0. 0. 0. 0. 0. 0. 0. 0. 0. 0. 0. 0. 0. 0. 0. 0. 0. 0. 0. 0. 0. 0. 0. 0.\n",
      "  0. 0. 0. 0. 0. 0. 0. 0. 0. 0. 0. 0. 0. 0. 0. 0. 0. 0. 0. 0. 0. 0. 0. 0.\n",
      "  0. 0. 0. 0. 0. 0. 0. 0. 0. 0. 0. 0. 0. 0. 0. 0. 0. 0. 0. 0. 0. 0. 0. 0.\n",
      "  0. 0. 0. 0. 0. 0. 0. 0. 0. 0. 0. 0. 0. 0. 0. 0. 0. 0. 0. 0. 0. 0. 0. 0.\n",
      "  0. 0. 0. 0. 0. 0. 0. 0. 0. 0. 0. 0. 0.]]\n"
     ]
    }
   ],
   "source": [
    "print(new_cols_arr[18:21])"
   ]
  },
  {
   "cell_type": "code",
   "execution_count": 8,
   "metadata": {},
   "outputs": [],
   "source": [
    "df_no_phecodes = df.drop(df.columns[15:], axis=1)\n",
    "for i, code in enumerate(unique_codes):\n",
    "    df_no_phecodes[code] = new_cols_arr[:, i]\n",
    "\n",
    "df_no_phecodes.to_csv('data/Test Data 1102_new.csv', index=False)"
   ]
  },
  {
   "cell_type": "markdown",
   "metadata": {},
   "source": [
    "### Replace quantitative with numerical data\n",
    "\n",
    "Added keys in variable description NEW.xlsx"
   ]
  },
  {
   "cell_type": "code",
   "execution_count": 56,
   "metadata": {},
   "outputs": [
    {
     "name": "stdout",
     "output_type": "stream",
     "text": [
      "['5. White' '2. Asian' '6. Multiple Races' '7. Unknown'\n",
      " '4. Black or African American' '1. American Indian or Alaska Native'\n",
      " '3. Native Hawaiian or Other Pacific Islander' nan]\n",
      "nan\n"
     ]
    }
   ],
   "source": [
    "## enumerate race\n",
    "dfc = df_no_phecodes.copy()\n",
    "uniq = dfc[\"Race\"].unique()\n",
    "print(uniq)\n",
    "for u in uniq:\n",
    "    if not isinstance(u, str):\n",
    "        print(u)\n",
    "        continue\n",
    "    dfc['Race'] = dfc['Race'].replace([u], int(u[0]))\n",
    "\n"
   ]
  },
  {
   "cell_type": "code",
   "execution_count": 57,
   "metadata": {},
   "outputs": [],
   "source": [
    "## Gender [M,F] -> Female [0,1]\n",
    "dfc['Gender'] = dfc['Gender'].replace(['F'], 1)\n",
    "dfc['Gender'] = dfc['Gender'].replace(['M'], 0)\n",
    "dfc = dfc.rename(columns={'Gender': 'Female'})"
   ]
  },
  {
   "cell_type": "code",
   "execution_count": 58,
   "metadata": {},
   "outputs": [],
   "source": [
    "# Spanish [N,Y,U] -> Spanish[0,1,-1]\n",
    "dfc['Spanish'] = dfc['Spanish'].replace(['N'], 0)\n",
    "dfc['Spanish'] = dfc['Spanish'].replace(['Y'], 1)\n",
    "dfc['Spanish'] = dfc['Spanish'].replace(['U'], -1)\n"
   ]
  },
  {
   "cell_type": "code",
   "execution_count": 59,
   "metadata": {},
   "outputs": [
    {
     "name": "stdout",
     "output_type": "stream",
     "text": [
      "0 Widowed\n",
      "nan\n",
      "1 Married\n",
      "2 Never Married\n",
      "3 Divorced\n",
      "4 Single\n",
      "5 Unknown or Unmarried (2018 plus)\n",
      "6 Separated\n",
      "7 Other\n",
      "8 Married but Separated\n",
      "9 Unknown\n"
     ]
    }
   ],
   "source": [
    "# marital status\n",
    "ms = dfc['EgoMaritalStatus'].unique()\n",
    "i = 0\n",
    "for m in ms:\n",
    "    if not isinstance(m, str):\n",
    "        print(m)\n",
    "        continue\n",
    "    dfc['EgoMaritalStatus'] = dfc['EgoMaritalStatus'].replace([m], i)\n",
    "    print(i, m)\n",
    "    i += 1"
   ]
  },
  {
   "cell_type": "code",
   "execution_count": 60,
   "metadata": {},
   "outputs": [],
   "source": [
    "dfc.to_csv('data/Test Data 1102_enumerated.csv', index=False)"
   ]
  }
 ],
 "metadata": {
  "interpreter": {
   "hash": "63fd5069d213b44bf678585dea6b12cceca9941eaf7f819626cde1f2670de90d"
  },
  "kernelspec": {
   "display_name": "Python 3.9.6 64-bit",
   "name": "python3"
  },
  "language_info": {
   "codemirror_mode": {
    "name": "ipython",
    "version": 3
   },
   "file_extension": ".py",
   "mimetype": "text/x-python",
   "name": "python",
   "nbconvert_exporter": "python",
   "pygments_lexer": "ipython3",
   "version": "3.7.6"
  },
  "orig_nbformat": 4
 },
 "nbformat": 4,
 "nbformat_minor": 2
}
